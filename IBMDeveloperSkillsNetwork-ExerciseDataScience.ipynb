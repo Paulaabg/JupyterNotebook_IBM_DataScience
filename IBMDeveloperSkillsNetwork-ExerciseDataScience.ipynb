{
  "metadata": {
    "language_info": {
      "codemirror_mode": {
        "name": "python",
        "version": 3
      },
      "file_extension": ".py",
      "mimetype": "text/x-python",
      "name": "python",
      "nbconvert_exporter": "python",
      "pygments_lexer": "ipython3",
      "version": "3.8"
    },
    "kernelspec": {
      "name": "python",
      "display_name": "Pyolite",
      "language": "python"
    }
  },
  "nbformat_minor": 4,
  "nbformat": 4,
  "cells": [
    {
      "cell_type": "markdown",
      "source": "## My first on Jupyter\nI am sharing with you my first time on Jupyter.",
      "metadata": {
        "tags": []
      }
    },
    {
      "cell_type": "markdown",
      "source": "## Exercise 4 - Data Science languages",
      "metadata": {}
    },
    {
      "cell_type": "markdown",
      "source": "Python, R, Scala, Julia and SQL\n",
      "metadata": {}
    },
    {
      "cell_type": "markdown",
      "source": "## Exercise 5 - Data Science libraries",
      "metadata": {}
    },
    {
      "cell_type": "markdown",
      "source": "Pandas, NumPy, SciPy, Keras, Matplotlib, SciKit Learn.",
      "metadata": {}
    },
    {
      "cell_type": "markdown",
      "source": "## Exercise 6 - Data Science tools",
      "metadata": {}
    },
    {
      "cell_type": "markdown",
      "source": "Tableu, Jupyter, ggplot, TensorFlow, Apache Spark, Excel.",
      "metadata": {}
    },
    {
      "cell_type": "markdown",
      "source": "## Exercise 7 - Arithmetic expression \n",
      "metadata": {}
    },
    {
      "cell_type": "markdown",
      "source": "10x(2+2)= 40; 50-5x(5+5)=0",
      "metadata": {}
    },
    {
      "cell_type": "markdown",
      "source": "## Exercise 8 - Multiply and add numbers",
      "metadata": {}
    },
    {
      "cell_type": "code",
      "source": "2 + 2 == 4\n5 + 5 == 10\n3 * 6 == 18\n5 * 0 == 0",
      "metadata": {
        "trusted": true
      },
      "execution_count": 34,
      "outputs": [
        {
          "execution_count": 34,
          "output_type": "execute_result",
          "data": {
            "text/plain": "True"
          },
          "metadata": {}
        }
      ]
    },
    {
      "cell_type": "markdown",
      "source": "## Exercise 9 - Convert minutes to hours",
      "metadata": {}
    },
    {
      "cell_type": "code",
      "source": "min=60\nhour=1\n\n60/1\n\n",
      "metadata": {
        "trusted": true
      },
      "execution_count": 60,
      "outputs": [
        {
          "execution_count": 60,
          "output_type": "execute_result",
          "data": {
            "text/plain": "60.0"
          },
          "metadata": {}
        }
      ]
    },
    {
      "cell_type": "markdown",
      "source": "## Exercise 10 -  Objectives",
      "metadata": {}
    },
    {
      "cell_type": "markdown",
      "source": "I want to successfully learn data science and I want to successfully learn another language.",
      "metadata": {}
    },
    {
      "cell_type": "markdown",
      "source": "## Exercise 11 - Author’s name\nPaula Braz",
      "metadata": {}
    },
    {
      "cell_type": "markdown",
      "source": "",
      "metadata": {}
    }
  ]
}